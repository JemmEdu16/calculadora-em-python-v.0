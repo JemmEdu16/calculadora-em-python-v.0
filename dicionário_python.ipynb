{
  "nbformat": 4,
  "nbformat_minor": 0,
  "metadata": {
    "colab": {
      "provenance": [],
      "authorship_tag": "ABX9TyNzCiJRlQScNA+sfz4Ejmxq",
      "include_colab_link": true
    },
    "kernelspec": {
      "name": "python3",
      "display_name": "Python 3"
    },
    "language_info": {
      "name": "python"
    }
  },
  "cells": [
    {
      "cell_type": "markdown",
      "metadata": {
        "id": "view-in-github",
        "colab_type": "text"
      },
      "source": [
        "<a href=\"https://colab.research.google.com/github/JemmEdu16/calculadora-em-python-v.0/blob/main/dicion%C3%A1rio_python.ipynb\" target=\"_parent\"><img src=\"https://colab.research.google.com/assets/colab-badge.svg\" alt=\"Open In Colab\"/></a>"
      ]
    },
    {
      "cell_type": "code",
      "execution_count": 9,
      "metadata": {
        "colab": {
          "base_uri": "https://localhost:8080/"
        },
        "id": "OEpiL8FVJ6FQ",
        "outputId": "6678ee9c-ebde-43c9-e7dd-66a3c3708de8"
      },
      "outputs": [
        {
          "output_type": "stream",
          "name": "stdout",
          "text": [
            "{'nome': 'chevete tunado', 'idade': 16, 'cidade': 'Terehell'}\n",
            "{'nome': 'chevete tunado', 'idade': 16, 'upgrades': ['kit turbo', 'intercooler']}\n"
          ]
        }
      ],
      "source": [
        "dicionario = {\"nome\":\"chevete tunado\",\"idade\":16,\"cidade\":\"Terehell\"}\n",
        "print(dicionario)\n",
        "\n",
        "dicionario2 = {\"nome\":\"chevete tunado\",\"idade\":16,\"upgrades\":[\"kit turbo\",\"intercooler\"]}\n",
        "print(dicionario2)"
      ]
    },
    {
      "cell_type": "markdown",
      "source": [
        "Uma chave não pode possuir mais de um valor se não estiver em um dicionário."
      ],
      "metadata": {
        "id": "RBYt63O_NDJu"
      }
    },
    {
      "cell_type": "code",
      "source": [],
      "metadata": {
        "id": "K4LRs2OkRHeG"
      },
      "execution_count": null,
      "outputs": []
    },
    {
      "cell_type": "code",
      "source": [
        "capitais = {\"France\":\"Paris\",\"Japan\":\"Tokyo\",\"England\":\"London\"}\n",
        "print(capitais)"
      ],
      "metadata": {
        "colab": {
          "base_uri": "https://localhost:8080/"
        },
        "id": "4Gfj5NTDNhHl",
        "outputId": "215587ed-6899-4cf0-94af-22de4b2235f6"
      },
      "execution_count": 8,
      "outputs": [
        {
          "output_type": "stream",
          "name": "stdout",
          "text": [
            "{'France': 'Paris', 'Japan': 'Tokyo', 'England': 'London'}\n"
          ]
        }
      ]
    },
    {
      "cell_type": "markdown",
      "source": [
        "key error: quando você tenta acessar uma chave em um diconário que não existe,ou seja,uma chave que não foi definida com uma informação."
      ],
      "metadata": {
        "id": "si41bDR4O786"
      }
    }
  ]
}