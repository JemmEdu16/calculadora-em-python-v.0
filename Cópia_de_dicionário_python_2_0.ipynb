{
  "nbformat": 4,
  "nbformat_minor": 0,
  "metadata": {
    "colab": {
      "provenance": [],
      "authorship_tag": "ABX9TyOjPP1oq5H4N1fod6V6lY3g",
      "include_colab_link": true
    },
    "kernelspec": {
      "name": "python3",
      "display_name": "Python 3"
    },
    "language_info": {
      "name": "python"
    }
  },
  "cells": [
    {
      "cell_type": "markdown",
      "metadata": {
        "id": "view-in-github",
        "colab_type": "text"
      },
      "source": [
        "<a href=\"https://colab.research.google.com/github/JemmEdu16/calculadora-em-python-v.0/blob/main/C%C3%B3pia_de_dicion%C3%A1rio_python_2_0.ipynb\" target=\"_parent\"><img src=\"https://colab.research.google.com/assets/colab-badge.svg\" alt=\"Open In Colab\"/></a>"
      ]
    },
    {
      "cell_type": "code",
      "execution_count": null,
      "metadata": {
        "colab": {
          "base_uri": "https://localhost:8080/"
        },
        "id": "OEpiL8FVJ6FQ",
        "outputId": "6678ee9c-ebde-43c9-e7dd-66a3c3708de8"
      },
      "outputs": [
        {
          "output_type": "stream",
          "name": "stdout",
          "text": [
            "{'nome': 'chevete tunado', 'idade': 16, 'cidade': 'Terehell'}\n",
            "{'nome': 'chevete tunado', 'idade': 16, 'upgrades': ['kit turbo', 'intercooler']}\n"
          ]
        }
      ],
      "source": [
        "dicionario = {\"nome\":\"chevete tunado\",\"idade\":16,\"cidade\":\"Terehell\"}\n",
        "print(dicionario)\n",
        "\n",
        "dicionario2 = {\"nome\":\"chevete tunado\",\"idade\":16,\"upgrades\":[\"kit turbo\",\"intercooler\"]}\n",
        "print(dicionario2)"
      ]
    },
    {
      "cell_type": "markdown",
      "source": [
        "Uma chave não pode possuir mais de um valor se não estiver em um dicionário."
      ],
      "metadata": {
        "id": "RBYt63O_NDJu"
      }
    },
    {
      "cell_type": "code",
      "source": [
        "contatos={\"ana\":12345,\"yudi\":40028922,\"julia\":417526587}\n",
        "nome = \"andre\"\n",
        "print(contatos.get(nome,\"value not found =( \"))"
      ],
      "metadata": {
        "id": "K4LRs2OkRHeG",
        "colab": {
          "base_uri": "https://localhost:8080/"
        },
        "outputId": "060e2fd2-ca3b-4613-a3a2-a2eb6ee1ba32"
      },
      "execution_count": null,
      "outputs": [
        {
          "output_type": "stream",
          "name": "stdout",
          "text": [
            "value not found =( \n"
          ]
        }
      ]
    },
    {
      "cell_type": "markdown",
      "source": [
        "o comando GET funciona para pegar uma informação dentro de uma lista.Podendo mais tarde atribuir um texto se o valor não existir na lista,como no exemplo acima."
      ],
      "metadata": {
        "id": "q_r3OKc6OjVv"
      }
    },
    {
      "cell_type": "code",
      "source": [
        "capitais = {\"France\":\"Paris\",\"Japan\":\"Tokyo\",\"England\":\"London\"}\n",
        "print(capitais)"
      ],
      "metadata": {
        "colab": {
          "base_uri": "https://localhost:8080/"
        },
        "id": "4Gfj5NTDNhHl",
        "outputId": "215587ed-6899-4cf0-94af-22de4b2235f6"
      },
      "execution_count": null,
      "outputs": [
        {
          "output_type": "stream",
          "name": "stdout",
          "text": [
            "{'France': 'Paris', 'Japan': 'Tokyo', 'England': 'London'}\n"
          ]
        }
      ]
    },
    {
      "cell_type": "markdown",
      "source": [
        "key error: quando você tenta acessar uma chave em um diconário que não existe,ou seja,uma chave que não foi definida com uma informação."
      ],
      "metadata": {
        "id": "si41bDR4O786"
      }
    },
    {
      "cell_type": "code",
      "source": [
        "estoque_frutas = {\"yapapa berry\":73467657,\"leppa berry\":65767650,\"oran berry\":76764}\n",
        "quantidades = estoque_frutas.values()\n",
        "print(quantidades)"
      ],
      "metadata": {
        "colab": {
          "base_uri": "https://localhost:8080/"
        },
        "id": "4kzKQxhlPwn6",
        "outputId": "69e4fa97-7228-477f-8f22-a65e7e81d7f7"
      },
      "execution_count": null,
      "outputs": [
        {
          "output_type": "stream",
          "name": "stdout",
          "text": [
            "dict_values([73467657, 65767650, 76764])\n"
          ]
        }
      ]
    },
    {
      "cell_type": "markdown",
      "source": [],
      "metadata": {
        "id": "cyiRD3GGQt3x"
      }
    },
    {
      "cell_type": "code",
      "source": [
        "meu_dicionario = {1:6,2:5,3:4}\n",
        "chaves = meu_dicionario.keys()\n",
        "soma = sum(chaves)\n",
        "print(soma)"
      ],
      "metadata": {
        "colab": {
          "base_uri": "https://localhost:8080/"
        },
        "id": "bOLksFKuQU7j",
        "outputId": "01e97e6c-8652-41f0-85dc-59a31eaa5e35"
      },
      "execution_count": null,
      "outputs": [
        {
          "output_type": "stream",
          "name": "stdout",
          "text": [
            "6\n"
          ]
        }
      ]
    },
    {
      "cell_type": "markdown",
      "source": [],
      "metadata": {
        "id": "wewlnTORQwH_"
      }
    },
    {
      "cell_type": "code",
      "source": [
        "dicionario = {\"nome\":\"chevete tunado\",\"idade\":16,\"cidade\":\"Terehell\"}\n",
        "itens = dicionario.items()\n",
        "print(itens)"
      ],
      "metadata": {
        "colab": {
          "base_uri": "https://localhost:8080/"
        },
        "id": "m7F2YcjpSjP0",
        "outputId": "f95597e8-d4c3-4747-af82-ee12dc549344"
      },
      "execution_count": null,
      "outputs": [
        {
          "output_type": "stream",
          "name": "stdout",
          "text": [
            "dict_items([('nome', 'chevete tunado'), ('idade', 16), ('cidade', 'Terehell')])\n"
          ]
        }
      ]
    }
  ]
}