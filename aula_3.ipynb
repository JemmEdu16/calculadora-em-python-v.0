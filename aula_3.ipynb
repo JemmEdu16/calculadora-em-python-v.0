{
  "nbformat": 4,
  "nbformat_minor": 0,
  "metadata": {
    "colab": {
      "provenance": [],
      "toc_visible": true,
      "authorship_tag": "ABX9TyP4RMoTj7mHSyBULNdGcisF",
      "include_colab_link": true
    },
    "kernelspec": {
      "name": "python3",
      "display_name": "Python 3"
    },
    "language_info": {
      "name": "python"
    }
  },
  "cells": [
    {
      "cell_type": "markdown",
      "metadata": {
        "id": "view-in-github",
        "colab_type": "text"
      },
      "source": [
        "<a href=\"https://colab.research.google.com/github/JemmEdu16/calculadora-em-python-v.0/blob/main/aula_3.ipynb\" target=\"_parent\"><img src=\"https://colab.research.google.com/assets/colab-badge.svg\" alt=\"Open In Colab\"/></a>"
      ]
    },
    {
      "cell_type": "code",
      "source": [
        "usuario_padrao = \"MidlifeJam\"\n",
        "senha_padrao = \"20335\"\n",
        "usuario = str(input(\" insira o nome de usuario: \"))\n",
        "senha = str(input(\"digite a sua senha: \"))\n",
        "if usuario == usuario_padrao and senha == senha_padrao:\n",
        "  print(\"Acesso permitido\")\n",
        "else:\n",
        "  print(\"Acesso negado\")\n",
        "\n",
        "\n"
      ],
      "metadata": {
        "colab": {
          "base_uri": "https://localhost:8080/"
        },
        "id": "sJcVKgl_ykn-",
        "outputId": "f8416306-aeb8-4d8b-8f1f-9e957ec8f4a7"
      },
      "execution_count": 19,
      "outputs": [
        {
          "output_type": "stream",
          "name": "stdout",
          "text": [
            " insira o nome de usuario: MidlifeJam\n",
            "digite a sua senha: 8356789\n",
            "Acesso negado\n"
          ]
        }
      ]
    }
  ]
}