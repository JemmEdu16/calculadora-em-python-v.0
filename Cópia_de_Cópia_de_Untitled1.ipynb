{
  "nbformat": 4,
  "nbformat_minor": 0,
  "metadata": {
    "colab": {
      "provenance": [],
      "authorship_tag": "ABX9TyNNekgkKrfQ56dKqnIEY0Oy",
      "include_colab_link": true
    },
    "kernelspec": {
      "name": "python3",
      "display_name": "Python 3"
    },
    "language_info": {
      "name": "python"
    }
  },
  "cells": [
    {
      "cell_type": "markdown",
      "metadata": {
        "id": "view-in-github",
        "colab_type": "text"
      },
      "source": [
        "<a href=\"https://colab.research.google.com/github/JemmEdu16/calculadora-em-python-v.0/blob/main/C%C3%B3pia_de_C%C3%B3pia_de_Untitled1.ipynb\" target=\"_parent\"><img src=\"https://colab.research.google.com/assets/colab-badge.svg\" alt=\"Open In Colab\"/></a>"
      ]
    },
    {
      "cell_type": "code",
      "execution_count": null,
      "metadata": {
        "colab": {
          "base_uri": "https://localhost:8080/"
        },
        "id": "h-gJVqKoD2jn",
        "outputId": "b0ecd1ec-80b0-4f8e-d694-81d635b4f965"
      },
      "outputs": [
        {
          "output_type": "stream",
          "name": "stdout",
          "text": [
            "olá:zeze,você tem 16 anos,e 1.73 metros.\n",
            "[1, 2, 3, 3]\n",
            "['dibila', 'loirinsensacao']\n",
            "[1, 2, 3]\n",
            "digite um nome: oi\n",
            "digite um nome: oi\n",
            "digite um nome: oi\n",
            "acertou miseravi\n"
          ]
        }
      ],
      "source": [
        "nome = \"zeze\"\n",
        "idade = 16\n",
        "altura = 1.73\n",
        "\n",
        "frase = f\"olá:{nome},você tem {idade} anos,e {altura} metros.\"\n",
        "print(frase)\n",
        "\n",
        "lista = [1,2,3]\n",
        "lista.append(3)\n",
        "print(lista)\n",
        "\n",
        "usuario = ['dibila','loirinsensacao',]\n",
        "print(usuario)\n",
        "\n",
        "del lista[2]\n",
        "print(lista)\n",
        "\n",
        "\n",
        "nomes = [\"zeze\"]\n",
        "nome1 = input(\"digite um nome: \")\n",
        "nome2 = input(\"digite um nome: \")\n",
        "nome3 = input(\"digite um nome: \")\n",
        "nomes.append(nome)\n",
        "nomes.append(nome2)\n",
        "nomes.append(nome3)\n",
        "\n",
        "\n",
        "if 2 in lista:\n",
        "  print(\"acertou miseravi\")\n",
        "\n",
        "\n",
        "\n"
      ]
    }
  ]
}