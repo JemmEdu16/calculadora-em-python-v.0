{
  "cells": [
    {
      "cell_type": "markdown",
      "metadata": {
        "id": "view-in-github",
        "colab_type": "text"
      },
      "source": [
        "<a href=\"https://colab.research.google.com/github/JemmEdu16/calculadora-em-python-v.0/blob/main/C%C3%B3pia_de_aula_3.ipynb\" target=\"_parent\"><img src=\"https://colab.research.google.com/assets/colab-badge.svg\" alt=\"Open In Colab\"/></a>"
      ]
    },
    {
      "cell_type": "code",
      "execution_count": null,
      "metadata": {
        "colab": {
          "base_uri": "https://localhost:8080/",
          "height": 106
        },
        "id": "sJcVKgl_ykn-",
        "outputId": "319d7948-516b-41b8-9a96-5fe3998df266"
      },
      "outputs": [
        {
          "output_type": "error",
          "ename": "SyntaxError",
          "evalue": "expected ':' (<ipython-input-22-04da3ce9c65a>, line 25)",
          "traceback": [
            "\u001b[0;36m  File \u001b[0;32m\"<ipython-input-22-04da3ce9c65a>\"\u001b[0;36m, line \u001b[0;32m25\u001b[0m\n\u001b[0;31m    if  operacao == 3\u001b[0m\n\u001b[0m                     ^\u001b[0m\n\u001b[0;31mSyntaxError\u001b[0m\u001b[0;31m:\u001b[0m expected ':'\n"
          ]
        }
      ],
      "source": [
        "operacao = 1/2/3/4\n",
        "CD = 1\n",
        "CP = 2\n",
        "CA = 3\n",
        "Calculadora = 4\n",
        "usuario_padrao = \"MidlifeJam\"\n",
        "senha_padrao = \"20335\"\n",
        "usuario = str(input(\" insira o nome de usuario: \"))\n",
        "senha = str(input(\"digite a sua senha: \"))\n",
        "if usuario == usuario_padrao and senha == senha_padrao:\n",
        "  print(\"Acesso permitido\")\n",
        "  operacao = int(inpu(\"selecione o número da operação requerida: \"))\n",
        "  if  operacao == 1:\n",
        "    print(\"cadastro direto selecionado.\")\n",
        "    str(inpu(\"usuario: \"))\n",
        "    str(input(\"senha: \"))\n",
        "    str(input(\"ID: \"))\n",
        "    print(\"cadastro direto efetuado.\")\n",
        "  if  operacao == 2:\n",
        "    print(\"cadastro de professor selecionado.\")\n",
        "    str(inpu(\"professor: \"))\n",
        "    str(input(\"senha: \"))\n",
        "    str(input(\"ID: \"))\n",
        "    str(input(\"matéria lecionada: \"))\n",
        "  if  operacao == 3\n",
        "    print(\"cadastro de aluno selecionado.\")\n",
        "    str(inpu(\"aluno: \"))\n",
        "    str(input(\"senha: \"))\n",
        "    str(input(\"ID: \"))\n",
        "    str(input(\"Série: \"))\n",
        "  if  operacao == 4\n",
        "    print(\"calculadora selecionada.\")\n",
        "    matematica = 1/2/3/4/5/6\n",
        "    matematica = int(input(\"selecione o número de acordo com a conta: \"))\n",
        "    num1 = int(inpu(\"primeiro número: \"))\n",
        "    num2 = int(input(\"segundo número: \"))\n",
        "\n",
        "  if matematica == 1:\n",
        "    print(num1 + num2)\n",
        "  if matematica == 2:\n",
        "    print(num1 - num2)\n",
        "  if matematica == 3:\n",
        "    print(num1 * num2)\n",
        "  if matematica == 4:\n",
        "    print(num1 / num2)\n",
        "  if matematica == 5:\n",
        "    print(num1 ** num2)\n",
        "  if matematica == 6:\n",
        "    print(num1 **0,5)\n",
        "else:\n",
        "  print(\"Acesso negado.\")\n",
        "\n",
        "\n",
        "\n",
        "\n"
      ]
    },
    {
      "cell_type": "code",
      "execution_count": null,
      "metadata": {
        "id": "V7go3hZaMdpF"
      },
      "outputs": [],
      "source": []
    }
  ],
  "metadata": {
    "colab": {
      "provenance": [],
      "authorship_tag": "ABX9TyOOXOjGnzwQ/ChFBP1nnYBC",
      "include_colab_link": true
    },
    "kernelspec": {
      "display_name": "Python 3",
      "name": "python3"
    },
    "language_info": {
      "name": "python"
    }
  },
  "nbformat": 4,
  "nbformat_minor": 0
}