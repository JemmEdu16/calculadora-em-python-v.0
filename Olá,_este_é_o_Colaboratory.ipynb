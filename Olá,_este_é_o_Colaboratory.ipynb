{
  "cells": [
    {
      "cell_type": "markdown",
      "metadata": {
        "id": "view-in-github",
        "colab_type": "text"
      },
      "source": [
        "<a href=\"https://colab.research.google.com/github/JemmEdu16/calculadora-em-python-v.0/blob/main/Ol%C3%A1%2C_este_%C3%A9_o_Colaboratory.ipynb\" target=\"_parent\"><img src=\"https://colab.research.google.com/assets/colab-badge.svg\" alt=\"Open In Colab\"/></a>"
      ]
    },
    {
      "cell_type": "code",
      "source": [
        "var1 = int(input(\"digite um inteiro:\"))\n",
        "var2 = int(input(\"digite outro inteiro:\"))\n",
        "exp = var1 ** var2\n",
        "\n",
        "print(exp)\n"
      ],
      "metadata": {
        "colab": {
          "base_uri": "https://localhost:8080/"
        },
        "id": "zdFZxrApvHYR",
        "outputId": "d5bf61c2-7795-4436-c9d1-87c02142f235"
      },
      "execution_count": 8,
      "outputs": [
        {
          "output_type": "stream",
          "name": "stdout",
          "text": [
            "digite um inteiro:7\n",
            "digite outro inteiro:0\n",
            "1\n"
          ]
        }
      ]
    },
    {
      "cell_type": "code",
      "source": [
        "var1 = int(input(\"digite um inteiro:\"))\n",
        "var2 = int(input(\"digite outro inteiro:\"))\n",
        "rest = var1 % var2\n",
        "\n",
        "print(rest)"
      ],
      "metadata": {
        "colab": {
          "base_uri": "https://localhost:8080/"
        },
        "id": "tIqyNmE3yXFR",
        "outputId": "924654be-8cc2-45f1-c51a-c75ed64d5cc3"
      },
      "execution_count": 13,
      "outputs": [
        {
          "output_type": "stream",
          "name": "stdout",
          "text": [
            "digite um inteiro:4\n",
            "digite outro inteiro:2\n",
            "0\n"
          ]
        }
      ]
    },
    {
      "cell_type": "code",
      "source": [
        "a = 3\n",
        "b = 4\n",
        "c = a < b\n",
        "d = a > b\n",
        "e = a == b\n",
        "\n",
        "print(\"Valor de c: \", c)\n",
        "print(\"Valor de d: \", d)\n",
        "print(\"Valor de e: \", e)"
      ],
      "metadata": {
        "colab": {
          "base_uri": "https://localhost:8080/"
        },
        "id": "jmV2xuuXzCn9",
        "outputId": "e1c69ab5-bfa0-4f45-f084-cf8c678feb49"
      },
      "execution_count": 14,
      "outputs": [
        {
          "output_type": "stream",
          "name": "stdout",
          "text": [
            "Valor de c:  True\n",
            "Valor de d:  False\n",
            "Valor de e:  False\n"
          ]
        }
      ]
    },
    {
      "cell_type": "code",
      "source": [
        "condicao = False\n",
        "if not condicao:\n",
        "  print(\"A condição é falsa.\")\n",
        "else:\n",
        "  print(\"A condição é veradeira.\")"
      ],
      "metadata": {
        "colab": {
          "base_uri": "https://localhost:8080/"
        },
        "id": "4xZ84hhZz3Vf",
        "outputId": "af39e5cc-2651-4122-9f21-7f1c6ee42bb1"
      },
      "execution_count": 16,
      "outputs": [
        {
          "output_type": "stream",
          "name": "stdout",
          "text": [
            "A condição é falsa.\n"
          ]
        }
      ]
    },
    {
      "cell_type": "code",
      "source": [
        "num1 = int(input(\"digite um número entre 10 e 20: \"))\n",
        "if num1>10 and num1<20:\n",
        " print(\"true\")\n",
        "else:\n",
        " print(\"false\")\n"
      ],
      "metadata": {
        "colab": {
          "base_uri": "https://localhost:8080/"
        },
        "id": "A16asneT05JX",
        "outputId": "a02b62c3-55ed-4233-88cc-ecd485a19953"
      },
      "execution_count": 29,
      "outputs": [
        {
          "output_type": "stream",
          "name": "stdout",
          "text": [
            "digite um número entre 10 e 20: 4\n",
            "false\n"
          ]
        }
      ]
    }
  ],
  "metadata": {
    "colab": {
      "name": "Olá, este é o Colaboratory",
      "toc_visible": true,
      "provenance": [],
      "include_colab_link": true
    },
    "kernelspec": {
      "display_name": "Python 3",
      "name": "python3"
    }
  },
  "nbformat": 4,
  "nbformat_minor": 0
}