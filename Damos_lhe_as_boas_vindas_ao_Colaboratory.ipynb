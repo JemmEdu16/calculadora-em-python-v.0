{
  "cells": [
    {
      "cell_type": "markdown",
      "metadata": {
        "id": "view-in-github",
        "colab_type": "text"
      },
      "source": [
        "<a href=\"https://colab.research.google.com/github/JemmEdu16/calculadora-em-python-v.0/blob/main/Damos_lhe_as_boas_vindas_ao_Colaboratory.ipynb\" target=\"_parent\"><img src=\"https://colab.research.google.com/assets/colab-badge.svg\" alt=\"Open In Colab\"/></a>"
      ]
    },
    {
      "cell_type": "code",
      "source": [
        "print(\"selecione a operação desejada:\")\n",
        "print(\"1.adição\")\n",
        "print(\"2.subtração\")\n",
        "print(\"3.multiplicação\")\n",
        "print(\"4.divisão\")\n",
        "\n",
        "opcao = input(\"digite o número da operaçaõ desejada (1/2/3/4):\")\n",
        "numero1 = float(input(\"digite o primeiro número:\"))\n",
        "numero2 = float(input(\"digite o segundo número:\"))\n",
        "\n",
        "if opcao == '1':\n",
        " resultado = numero1 + numero2\n",
        " print(\"resultado:\",resultado)\n",
        "elif opcao == '2':\n",
        " resultado = numero1 - numero2\n",
        " print(\"resultado:\",resultado)\n",
        "elif opcao == '3':\n",
        " resultado = numero1 * numero2\n",
        " print(\"resultado:\",resultado)\n",
        "elif opcao == '4':\n",
        "  if numero2 !=0:\n",
        "     resultado = numero1 / numero2\n",
        "     print(\"resultado:\",resultado)\n",
        "  else:\n",
        "    print(\"Erro:divisão por zero!\")\n",
        "else:\n",
        "  print((\"erro: divisão inválida,selecione outra opção\"))"
      ],
      "metadata": {
        "colab": {
          "base_uri": "https://localhost:8080/"
        },
        "id": "QRuWv5ubs6oG",
        "outputId": "694a8782-9c37-459c-d6ec-f84bf7e7db15"
      },
      "execution_count": 10,
      "outputs": [
        {
          "output_type": "stream",
          "name": "stdout",
          "text": [
            "selecione a operação desejada:\n",
            "1.adição\n",
            "2.subtração\n",
            "3.multiplicação\n",
            "4.divisão\n",
            "digite o número da operaçaõ desejada (1/2/3/4):3\n",
            "digite o primeiro número:14363562746\n",
            "digite o segundo número:2\n",
            "resultado: 28727125492.0\n"
          ]
        }
      ]
    }
  ],
  "metadata": {
    "colab": {
      "name": "Damos-lhe as boas-vindas ao Colaboratory",
      "toc_visible": true,
      "provenance": [],
      "include_colab_link": true
    },
    "kernelspec": {
      "display_name": "Python 3",
      "name": "python3"
    }
  },
  "nbformat": 4,
  "nbformat_minor": 0
}