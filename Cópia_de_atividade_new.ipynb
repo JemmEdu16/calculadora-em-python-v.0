{
  "cells": [
    {
      "cell_type": "markdown",
      "metadata": {
        "id": "view-in-github",
        "colab_type": "text"
      },
      "source": [
        "<a href=\"https://colab.research.google.com/github/JemmEdu16/calculadora-em-python-v.0/blob/main/C%C3%B3pia_de_atividade_new.ipynb\" target=\"_parent\"><img src=\"https://colab.research.google.com/assets/colab-badge.svg\" alt=\"Open In Colab\"/></a>"
      ]
    },
    {
      "cell_type": "code",
      "execution_count": null,
      "metadata": {
        "id": "V7go3hZaMdpF"
      },
      "outputs": [],
      "source": []
    },
    {
      "cell_type": "code",
      "execution_count": null,
      "metadata": {
        "colab": {
          "base_uri": "https://localhost:8080/"
        },
        "id": "sJcVKgl_ykn-",
        "outputId": "bb943cd0-241b-42dc-cbe6-f8d995970d0e"
      },
      "outputs": [
        {
          "output_type": "stream",
          "name": "stdout",
          "text": [
            " insira o nome de usuario: MidlifeJam\n",
            "digite a sua senha: 20335\n",
            "Acesso permitido\n",
            "selecione o número da operação requerida: 4\n",
            "calculadora selecionada.\n",
            "selecione o número de acordo com a conta: 6\n",
            "primeiro número: 3\n",
            "segundo número: 27\n",
            "3.0\n"
          ]
        }
      ],
      "source": [
        "operacao = 1/2/3/4\n",
        "CD = 1\n",
        "CP = 2\n",
        "CA = 3\n",
        "Calculadora = 4\n",
        "\n",
        "usuario_padrao = \"MidlifeJam\"\n",
        "senha_padrao = \"20335\"\n",
        "usuario = str(input(\" insira o nome de usuario: \"))\n",
        "senha = str(input(\"digite a sua senha: \"))\n",
        "if usuario == usuario_padrao and senha == senha_padrao:\n",
        "  print(\"Acesso permitido\")\n",
        "  operacao = int(input(\"selecione o número da operação requerida: \",))\n",
        "  if  operacao == 1:\n",
        "    print(\"cadastro direto selecionado.\")\n",
        "    usario_cd = str(input(\"usuario: \"))\n",
        "    senha_cd = str(input(\"senha: \"))\n",
        "    id_cd = str(input(\"ID: \"))\n",
        "    print(\"cadastro direto efetuado.\")\n",
        "  if  operacao == 2:\n",
        "    print(\"cadastro de professor selecionado.\")\n",
        "    professor = str(input(\"professor: \"))\n",
        "    senha_professor = str(input(\"senha: \"))\n",
        "    id_cd = str(input(\"ID: \"))\n",
        "    materia = str(input(\"matéria lecionada: \"))\n",
        "  if  operacao == 3:\n",
        "    print(\"cadastro de aluno selecionado.\")\n",
        "    aluno = str(input(\"aluno: \"))\n",
        "    senha_aluno = str(input(\"senha: \"))\n",
        "    id_aluno = str(input(\"ID: \"))\n",
        "    serie = str(input(\"Série: \"))\n",
        "  if  operacao == 4:\n",
        "    print(\"calculadora selecionada.\")\n",
        "    matematica = 1/2/3/4/5/6\n",
        "    matematica = int(input(\"selecione o número de acordo com a conta: \"))\n",
        "    num1 = int(input(\"primeiro número: \"))\n",
        "    num2 = int(input(\"segundo número: \"))\n",
        "\n",
        "  if matematica == 1:\n",
        "    print(num1 + num2)\n",
        "  if matematica == 2:\n",
        "    print(num1 - num2)\n",
        "  if matematica == 3:\n",
        "    print(num1 * num2)\n",
        "  if matematica == 4:\n",
        "    print(num1 / num2)\n",
        "  if matematica == 5:\n",
        "    print(num1 ** num2)\n",
        "  if matematica == 6:\n",
        "    print(num2 **(1/num1))\n",
        "else:\n",
        "  print(\"Acesso negado.\")"
      ]
    }
  ],
  "metadata": {
    "colab": {
      "provenance": [],
      "authorship_tag": "ABX9TyPj1ChXtnu71ciNIpNLQjea",
      "include_colab_link": true
    },
    "kernelspec": {
      "display_name": "Python 3",
      "name": "python3"
    },
    "language_info": {
      "name": "python"
    }
  },
  "nbformat": 4,
  "nbformat_minor": 0
}